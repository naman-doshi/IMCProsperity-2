{
 "cells": [
  {
   "cell_type": "code",
   "execution_count": 5,
   "metadata": {},
   "outputs": [
    {
     "name": "stdout",
     "output_type": "stream",
     "text": [
      "[6.25, -1.25, -10.416666666666666, -12.5, 2.9166666666666665, 14.583333333333334, -27.083333333333332, -2.0833333333333335, -2.0833333333333335]\n",
      "114187.5\n"
     ]
    }
   ],
   "source": [
    "weights = [15, -3, -25, -30, 7, 35, -65, -5, -5]\n",
    "x = []\n",
    "\n",
    "for i in weights:\n",
    "    x.append(2.5 * i / 6)\n",
    "\n",
    "print(x)\n",
    "b \n",
    "def returns(xx, yy):\n",
    "    xx = abs(xx)\n",
    "    yy = abs(yy)\n",
    "    return 75 * xx * yy - 90 * yy * yy\n",
    "\n",
    "prof = 0\n",
    "for i in range(len(weights)):\n",
    "    prof += returns(weights[i], x[i])\n",
    "\n",
    "print(prof)"
   ]
  }
 ],
 "metadata": {
  "kernelspec": {
   "display_name": "Python 3",
   "language": "python",
   "name": "python3"
  },
  "language_info": {
   "codemirror_mode": {
    "name": "ipython",
    "version": 3
   },
   "file_extension": ".py",
   "mimetype": "text/x-python",
   "name": "python",
   "nbconvert_exporter": "python",
   "pygments_lexer": "ipython3",
   "version": "3.11.9"
  }
 },
 "nbformat": 4,
 "nbformat_minor": 2
}
