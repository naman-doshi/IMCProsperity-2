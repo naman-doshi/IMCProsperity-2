{
 "cells": [
  {
   "cell_type": "code",
   "execution_count": 10,
   "metadata": {},
   "outputs": [
    {
     "name": "stdout",
     "output_type": "stream",
     "text": [
      "[5.833333333333333, -8.333333333333334, -12.916666666666666, -12.5, 0.8333333333333334, 12.5, -27.916666666666668, 0.041666666666666664, -0.08333333333333333]\n",
      "122657.03125\n"
     ]
    }
   ],
   "source": [
    "weights = [14, -20, -31, -30, 2, 30, -67, 0.1, -0.2]\n",
    "x = []\n",
    "\n",
    "for i in weights:\n",
    "    x.append(2.5 * i / 6)\n",
    "\n",
    "print(x)\n",
    "\n",
    "def returns(xx, yy):\n",
    "    xx = abs(xx)\n",
    "    yy = abs(yy)\n",
    "    return 75 * xx * yy - 90 * yy * yy\n",
    "\n",
    "prof = 0\n",
    "for i in range(len(weights)):\n",
    "    prof += returns(weights[i], x[i])\n",
    "\n",
    "print(prof)"
   ]
  }
 ],
 "metadata": {
  "kernelspec": {
   "display_name": "Python 3",
   "language": "python",
   "name": "python3"
  },
  "language_info": {
   "codemirror_mode": {
    "name": "ipython",
    "version": 3
   },
   "file_extension": ".py",
   "mimetype": "text/x-python",
   "name": "python",
   "nbconvert_exporter": "python",
   "pygments_lexer": "ipython3",
   "version": "3.11.9"
  }
 },
 "nbformat": 4,
 "nbformat_minor": 2
}
