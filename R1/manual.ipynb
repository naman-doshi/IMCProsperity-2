{
 "cells": [
  {
   "cell_type": "code",
   "execution_count": 4,
   "metadata": {},
   "outputs": [],
   "source": [
    "def p(x):\n",
    "  return 0.0002*(x-900)"
   ]
  },
  {
   "cell_type": "code",
   "execution_count": 19,
   "metadata": {},
   "outputs": [
    {
     "name": "stdout",
     "output_type": "stream",
     "text": [
      "(20.1084, 952, 978)\n"
     ]
    }
   ],
   "source": [
    "lis = []\n",
    "for i in range(900, 1001):\n",
    "  for j in range(i+1, 1001):\n",
    "    profit = 0\n",
    "    for k in range(900, i):\n",
    "      profit += p(k) * (1000-i)\n",
    "    for k in range(i, j):\n",
    "      profit += p(k) * (1000-j)\n",
    "    lis.append((profit, i, j))\n",
    "\n",
    "lis.sort()\n",
    "print(lis[-1])"
   ]
  }
 ],
 "metadata": {
  "kernelspec": {
   "display_name": "Python 3",
   "language": "python",
   "name": "python3"
  },
  "language_info": {
   "codemirror_mode": {
    "name": "ipython",
    "version": 3
   },
   "file_extension": ".py",
   "mimetype": "text/x-python",
   "name": "python",
   "nbconvert_exporter": "python",
   "pygments_lexer": "ipython3",
   "version": "3.9.6"
  }
 },
 "nbformat": 4,
 "nbformat_minor": 2
}
