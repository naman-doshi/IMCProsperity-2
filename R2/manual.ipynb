{
 "cells": [
  {
   "cell_type": "code",
   "execution_count": 5,
   "metadata": {},
   "outputs": [
    {
     "name": "stdout",
     "output_type": "stream",
     "text": [
      "[2111616.0, 3, 0, 1]\n"
     ]
    }
   ],
   "source": [
    "conv = [[1, 0.48, 1.52, 0.71],\n",
    "        [2.05, 1, 3.26, 1.56],\n",
    "        [0.64, 0.3, 1, 0.46],\n",
    "        [1.41, 0.61, 2.08, 1]]\n",
    "\n",
    "lis = []\n",
    "for i in range(0, 4):\n",
    "    for j in range(0, 4):\n",
    "        for k in range(0, 4):\n",
    "            val = 1\n",
    "            val *= conv[3][i]\n",
    "            val *= conv[i][j]\n",
    "            val *= conv[j][k]\n",
    "            val *= conv[k][3]\n",
    "            lis.append([val, i, j, k])\n",
    "\n",
    "lis.sort()\n",
    "print(lis[-1])"
   ]
  },
  {
   "cell_type": "code",
   "execution_count": 8,
   "metadata": {},
   "outputs": [
    {
     "name": "stdout",
     "output_type": "stream",
     "text": [
      "[2111616.0, ('sh', 'sh', 'pi', 'wa', 'sh')]\n"
     ]
    }
   ],
   "source": [
    "import itertools\n",
    "\n",
    "products = ['pi', 'wa', 'sn', 'sh']\n",
    "rates = {'pi-pi': 1, 'pi-wa': 0.48, 'pi-sn': 1.52, 'pi-sh': 0.71, 'wa-pi': 2.05, 'wa-wa': 1, 'wa-sn': 3.26, 'wa-sh': 1.56, 'sn-pi': 0.64, 'sn-wa': 0.3, 'sn-sn': 1, 'sn-sh': 0.46, 'sh-pi': 1.41, 'sh-wa': 0.61, 'sh-sn': 2.08, 'sh-sh': 1}\n",
    "\n",
    "\n",
    "combos = [x for x in itertools.product(products, repeat=3)]\n",
    "money = 1\n",
    "combs = []\n",
    "\n",
    "for combo in combos:\n",
    "    combo = ('sh',) + combo + ('sh',)\n",
    "    combs.append(combo)\n",
    "\n",
    "moneys = []\n",
    "\n",
    "for combo in combs:\n",
    "    for i in range(len(combo)):\n",
    "        if i != len(combo) - 1:\n",
    "            money *= rates[f'{combo[i]}-{combo[i+1]}']\n",
    "    moneys.append([money, combo])\n",
    "    money = 1\n",
    "\n",
    "moneys.sort()\n",
    "print(moneys[-1])\n"
   ]
  }
 ],
 "metadata": {
  "kernelspec": {
   "display_name": "Python 3",
   "language": "python",
   "name": "python3"
  },
  "language_info": {
   "codemirror_mode": {
    "name": "ipython",
    "version": 3
   },
   "file_extension": ".py",
   "mimetype": "text/x-python",
   "name": "python",
   "nbconvert_exporter": "python",
   "pygments_lexer": "ipython3",
   "version": "3.11.9"
  }
 },
 "nbformat": 4,
 "nbformat_minor": 2
}
